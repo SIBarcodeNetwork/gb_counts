{
 "cells": [
  {
   "cell_type": "markdown",
   "metadata": {},
   "source": [
    "**Update these values, and then Restart and Run All**"
   ]
  },
  {
   "cell_type": "code",
   "execution_count": 1,
   "metadata": {},
   "outputs": [],
   "source": [
    "Q = 3\n",
    "YEAR = 2020"
   ]
  },
  {
   "cell_type": "code",
   "execution_count": 2,
   "metadata": {},
   "outputs": [],
   "source": [
    "import pandas as pd\n",
    "import genetic_collections as gc\n",
    "import tarfile\n",
    "import io"
   ]
  },
  {
   "cell_type": "markdown",
   "metadata": {},
   "source": [
    "## Downloading GenBank Records"
   ]
  },
  {
   "cell_type": "code",
   "execution_count": 3,
   "metadata": {},
   "outputs": [],
   "source": [
    "q_end_dates = {1: '3/31',\n",
    "               2: '6/30',\n",
    "               3: '9/31',\n",
    "               4: '12/31'}\n",
    "bioprojects = {'GGI': '384793',\n",
    "               'SIBN': '81359'}"
   ]
  },
  {
   "cell_type": "code",
   "execution_count": 4,
   "metadata": {},
   "outputs": [
    {
     "name": "stdout",
     "output_type": "stream",
     "text": [
      "GGI 9621\n",
      "GGI 9621\n",
      "<class 'pandas.core.frame.DataFrame'>\n",
      "RangeIndex: 9621 entries, 0 to 9620\n",
      "Data columns (total 20 columns):\n",
      " #   Column            Non-Null Count  Dtype \n",
      "---  ------            --------------  ----- \n",
      " 0   accession         9621 non-null   object\n",
      " 1   scientific_name   9621 non-null   object\n",
      " 2   publish_date      9621 non-null   object\n",
      " 3   update_date       9621 non-null   object\n",
      " 4   keyword           9621 non-null   object\n",
      " 5   bioproject        9621 non-null   object\n",
      " 6   seq_len           9621 non-null   object\n",
      " 7   submit_authors    9621 non-null   object\n",
      " 8   submit_date       9621 non-null   object\n",
      " 9   submit_inst       9621 non-null   object\n",
      " 10  specimen_voucher  9571 non-null   object\n",
      " 11  bold_id           2092 non-null   object\n",
      " 12  taxid             9621 non-null   object\n",
      " 13  country           9568 non-null   object\n",
      " 14  lat_lon           7718 non-null   object\n",
      " 15  collection_date   7698 non-null   object\n",
      " 16  collected_by      7645 non-null   object\n",
      " 17  PCR_primers       7531 non-null   object\n",
      " 18  identified_by     1033 non-null   object\n",
      " 19  initiative        9621 non-null   object\n",
      "dtypes: object(20)\n",
      "memory usage: 1.5+ MB\n",
      "None\n",
      "SIBN 25658\n",
      "SIBN 25658\n",
      "<class 'pandas.core.frame.DataFrame'>\n",
      "RangeIndex: 25658 entries, 0 to 25657\n",
      "Data columns (total 20 columns):\n",
      " #   Column            Non-Null Count  Dtype \n",
      "---  ------            --------------  ----- \n",
      " 0   accession         25658 non-null  object\n",
      " 1   scientific_name   25658 non-null  object\n",
      " 2   publish_date      25658 non-null  object\n",
      " 3   update_date       25658 non-null  object\n",
      " 4   keyword           25658 non-null  object\n",
      " 5   bioproject        25658 non-null  object\n",
      " 6   seq_len           25658 non-null  object\n",
      " 7   submit_authors    25658 non-null  object\n",
      " 8   submit_date       25658 non-null  object\n",
      " 9   submit_inst       25658 non-null  object\n",
      " 10  specimen_voucher  25649 non-null  object\n",
      " 11  bold_id           22414 non-null  object\n",
      " 12  taxid             25658 non-null  object\n",
      " 13  country           25658 non-null  object\n",
      " 14  lat_lon           20920 non-null  object\n",
      " 15  collection_date   24860 non-null  object\n",
      " 16  collected_by      19447 non-null  object\n",
      " 17  PCR_primers       22961 non-null  object\n",
      " 18  identified_by     16994 non-null  object\n",
      " 19  initiative        25658 non-null  object\n",
      "dtypes: object(20)\n",
      "memory usage: 3.9+ MB\n",
      "None\n"
     ]
    }
   ],
   "source": [
    "project_results = []\n",
    "for initiative, bioproject_code in bioprojects.items():\n",
    "    gb_query = f'{bioproject_code}[BioProject] AND (\"1900/01/01\"[PDAT] : \"{YEAR}/{q_end_dates[Q]}\" [PDAT])'\n",
    "    gb_search_results = gc.gb_search(raw_query=gb_query)\n",
    "    print(initiative, len(gb_search_results.id_list))\n",
    "    gb_results = gc.gb_fetch_from_id_list(gb_search_results.id_list)\n",
    "    print(initiative, len(gb_results))\n",
    "    project_df = pd.DataFrame(gb_results)\n",
    "    project_df['initiative'] = initiative\n",
    "    print(project_df.info())\n",
    "    project_results.append(project_df)"
   ]
  },
  {
   "cell_type": "code",
   "execution_count": 6,
   "metadata": {},
   "outputs": [
    {
     "name": "stdout",
     "output_type": "stream",
     "text": [
      "<class 'pandas.core.frame.DataFrame'>\n",
      "Int64Index: 35279 entries, 0 to 25657\n",
      "Data columns (total 7 columns):\n",
      " #   Column            Non-Null Count  Dtype \n",
      "---  ------            --------------  ----- \n",
      " 0   initiative        35279 non-null  object\n",
      " 1   bioproject        35279 non-null  object\n",
      " 2   accession         35279 non-null  object\n",
      " 3   specimen_voucher  35220 non-null  object\n",
      " 4   publish_date      35279 non-null  object\n",
      " 5   quarter           35279 non-null  object\n",
      " 6   taxid             35279 non-null  object\n",
      "dtypes: object(7)\n",
      "memory usage: 2.2+ MB\n"
     ]
    }
   ],
   "source": [
    "gb_df = pd.concat(project_results)\n",
    "gb_df['quarter'] = pd.to_datetime(gb_df['publish_date']).dt.year.astype(str) + '-Q' +\\\n",
    "                     pd.to_datetime(gb_df['publish_date']).dt.quarter.astype(str)\n",
    "keep_cols = ['initiative','bioproject','accession','specimen_voucher','publish_date','quarter','taxid']\n",
    "gb_df = gb_df[keep_cols]\n",
    "gb_df.info()"
   ]
  },
  {
   "cell_type": "markdown",
   "metadata": {},
   "source": [
    "## Downloading NCBI Taxonomy"
   ]
  },
  {
   "cell_type": "code",
   "execution_count": null,
   "metadata": {},
   "outputs": [],
   "source": [
    "!curl -sS -o new_taxdump.latest.tar.gz ftp://ftp.ncbi.nih.gov/pub/taxonomy/new_taxdump/new_taxdump.tar.gz"
   ]
  },
  {
   "cell_type": "code",
   "execution_count": 9,
   "metadata": {},
   "outputs": [
    {
     "data": {
      "text/html": [
       "<div>\n",
       "<style scoped>\n",
       "    .dataframe tbody tr th:only-of-type {\n",
       "        vertical-align: middle;\n",
       "    }\n",
       "\n",
       "    .dataframe tbody tr th {\n",
       "        vertical-align: top;\n",
       "    }\n",
       "\n",
       "    .dataframe thead th {\n",
       "        text-align: right;\n",
       "    }\n",
       "</style>\n",
       "<table border=\"1\" class=\"dataframe\">\n",
       "  <thead>\n",
       "    <tr style=\"text-align: right;\">\n",
       "      <th></th>\n",
       "      <th>taxid</th>\n",
       "      <th>tax_name</th>\n",
       "      <th>species</th>\n",
       "      <th>genus</th>\n",
       "      <th>family</th>\n",
       "      <th>order</th>\n",
       "      <th>class</th>\n",
       "      <th>phylum</th>\n",
       "      <th>kingdom</th>\n",
       "      <th>superkingdom</th>\n",
       "    </tr>\n",
       "  </thead>\n",
       "  <tbody>\n",
       "    <tr>\n",
       "      <th>0</th>\n",
       "      <td>1</td>\n",
       "      <td>root</td>\n",
       "      <td>NaN</td>\n",
       "      <td>NaN</td>\n",
       "      <td>NaN</td>\n",
       "      <td>NaN</td>\n",
       "      <td>NaN</td>\n",
       "      <td>NaN</td>\n",
       "      <td>NaN</td>\n",
       "      <td>\\t|</td>\n",
       "    </tr>\n",
       "    <tr>\n",
       "      <th>1</th>\n",
       "      <td>131567</td>\n",
       "      <td>cellular organisms</td>\n",
       "      <td>NaN</td>\n",
       "      <td>NaN</td>\n",
       "      <td>NaN</td>\n",
       "      <td>NaN</td>\n",
       "      <td>NaN</td>\n",
       "      <td>NaN</td>\n",
       "      <td>NaN</td>\n",
       "      <td>\\t|</td>\n",
       "    </tr>\n",
       "    <tr>\n",
       "      <th>2</th>\n",
       "      <td>2157</td>\n",
       "      <td>Archaea</td>\n",
       "      <td>NaN</td>\n",
       "      <td>NaN</td>\n",
       "      <td>NaN</td>\n",
       "      <td>NaN</td>\n",
       "      <td>NaN</td>\n",
       "      <td>NaN</td>\n",
       "      <td>NaN</td>\n",
       "      <td>\\t|</td>\n",
       "    </tr>\n",
       "    <tr>\n",
       "      <th>3</th>\n",
       "      <td>1935183</td>\n",
       "      <td>Asgard group</td>\n",
       "      <td>NaN</td>\n",
       "      <td>NaN</td>\n",
       "      <td>NaN</td>\n",
       "      <td>NaN</td>\n",
       "      <td>NaN</td>\n",
       "      <td>NaN</td>\n",
       "      <td>NaN</td>\n",
       "      <td>Archaea\\t|</td>\n",
       "    </tr>\n",
       "    <tr>\n",
       "      <th>4</th>\n",
       "      <td>1936272</td>\n",
       "      <td>Candidatus Heimdallarchaeota</td>\n",
       "      <td>NaN</td>\n",
       "      <td>NaN</td>\n",
       "      <td>NaN</td>\n",
       "      <td>NaN</td>\n",
       "      <td>NaN</td>\n",
       "      <td>NaN</td>\n",
       "      <td>NaN</td>\n",
       "      <td>Archaea\\t|</td>\n",
       "    </tr>\n",
       "  </tbody>\n",
       "</table>\n",
       "</div>"
      ],
      "text/plain": [
       "     taxid                      tax_name species genus family order class  \\\n",
       "0        1                          root     NaN   NaN    NaN   NaN   NaN   \n",
       "1   131567            cellular organisms     NaN   NaN    NaN   NaN   NaN   \n",
       "2     2157                       Archaea     NaN   NaN    NaN   NaN   NaN   \n",
       "3  1935183                  Asgard group     NaN   NaN    NaN   NaN   NaN   \n",
       "4  1936272  Candidatus Heimdallarchaeota     NaN   NaN    NaN   NaN   NaN   \n",
       "\n",
       "  phylum kingdom superkingdom  \n",
       "0    NaN     NaN          \\t|  \n",
       "1    NaN     NaN          \\t|  \n",
       "2    NaN     NaN          \\t|  \n",
       "3    NaN     NaN   Archaea\\t|  \n",
       "4    NaN     NaN   Archaea\\t|  "
      ]
     },
     "execution_count": 9,
     "metadata": {},
     "output_type": "execute_result"
    }
   ],
   "source": [
    "with tarfile.open('new_taxdump.latest.tar.gz', \"r:gz\") as tar:\n",
    "    rankedlineage = tar.extractfile('rankedlineage.dmp').read()\n",
    "    ranked_taxa = pd.read_csv(io.BytesIO(rankedlineage), \n",
    "                     encoding='utf8', \n",
    "                     sep='\\t\\|\\t', engine='python',\n",
    "                     error_bad_lines=False,\n",
    "                     names=['taxid','tax_name','species','genus','family',\n",
    "                            'order','class','phylum','kingdom','superkingdom'])\n",
    "ranked_taxa.head()"
   ]
  },
  {
   "cell_type": "code",
   "execution_count": 10,
   "metadata": {},
   "outputs": [
    {
     "data": {
      "text/html": [
       "<div>\n",
       "<style scoped>\n",
       "    .dataframe tbody tr th:only-of-type {\n",
       "        vertical-align: middle;\n",
       "    }\n",
       "\n",
       "    .dataframe tbody tr th {\n",
       "        vertical-align: top;\n",
       "    }\n",
       "\n",
       "    .dataframe thead th {\n",
       "        text-align: right;\n",
       "    }\n",
       "</style>\n",
       "<table border=\"1\" class=\"dataframe\">\n",
       "  <thead>\n",
       "    <tr style=\"text-align: right;\">\n",
       "      <th></th>\n",
       "      <th>taxid</th>\n",
       "      <th>tax_name</th>\n",
       "      <th>species</th>\n",
       "      <th>genus</th>\n",
       "      <th>family</th>\n",
       "      <th>order</th>\n",
       "      <th>class</th>\n",
       "      <th>phylum</th>\n",
       "      <th>kingdom</th>\n",
       "      <th>superkingdom</th>\n",
       "    </tr>\n",
       "  </thead>\n",
       "  <tbody>\n",
       "    <tr>\n",
       "      <th>0</th>\n",
       "      <td>1</td>\n",
       "      <td>root</td>\n",
       "      <td>NaN</td>\n",
       "      <td>NaN</td>\n",
       "      <td>NaN</td>\n",
       "      <td>NaN</td>\n",
       "      <td>NaN</td>\n",
       "      <td>NaN</td>\n",
       "      <td>NaN</td>\n",
       "      <td></td>\n",
       "    </tr>\n",
       "    <tr>\n",
       "      <th>1</th>\n",
       "      <td>131567</td>\n",
       "      <td>cellular organisms</td>\n",
       "      <td>NaN</td>\n",
       "      <td>NaN</td>\n",
       "      <td>NaN</td>\n",
       "      <td>NaN</td>\n",
       "      <td>NaN</td>\n",
       "      <td>NaN</td>\n",
       "      <td>NaN</td>\n",
       "      <td></td>\n",
       "    </tr>\n",
       "    <tr>\n",
       "      <th>2</th>\n",
       "      <td>2157</td>\n",
       "      <td>Archaea</td>\n",
       "      <td>NaN</td>\n",
       "      <td>NaN</td>\n",
       "      <td>NaN</td>\n",
       "      <td>NaN</td>\n",
       "      <td>NaN</td>\n",
       "      <td>NaN</td>\n",
       "      <td>NaN</td>\n",
       "      <td></td>\n",
       "    </tr>\n",
       "    <tr>\n",
       "      <th>3</th>\n",
       "      <td>1935183</td>\n",
       "      <td>Asgard group</td>\n",
       "      <td>NaN</td>\n",
       "      <td>NaN</td>\n",
       "      <td>NaN</td>\n",
       "      <td>NaN</td>\n",
       "      <td>NaN</td>\n",
       "      <td>NaN</td>\n",
       "      <td>NaN</td>\n",
       "      <td>Archaea</td>\n",
       "    </tr>\n",
       "    <tr>\n",
       "      <th>4</th>\n",
       "      <td>1936272</td>\n",
       "      <td>Candidatus Heimdallarchaeota</td>\n",
       "      <td>NaN</td>\n",
       "      <td>NaN</td>\n",
       "      <td>NaN</td>\n",
       "      <td>NaN</td>\n",
       "      <td>NaN</td>\n",
       "      <td>NaN</td>\n",
       "      <td>NaN</td>\n",
       "      <td>Archaea</td>\n",
       "    </tr>\n",
       "  </tbody>\n",
       "</table>\n",
       "</div>"
      ],
      "text/plain": [
       "     taxid                      tax_name species genus family order class  \\\n",
       "0        1                          root     NaN   NaN    NaN   NaN   NaN   \n",
       "1   131567            cellular organisms     NaN   NaN    NaN   NaN   NaN   \n",
       "2     2157                       Archaea     NaN   NaN    NaN   NaN   NaN   \n",
       "3  1935183                  Asgard group     NaN   NaN    NaN   NaN   NaN   \n",
       "4  1936272  Candidatus Heimdallarchaeota     NaN   NaN    NaN   NaN   NaN   \n",
       "\n",
       "  phylum kingdom superkingdom  \n",
       "0    NaN     NaN               \n",
       "1    NaN     NaN               \n",
       "2    NaN     NaN               \n",
       "3    NaN     NaN      Archaea  \n",
       "4    NaN     NaN      Archaea  "
      ]
     },
     "execution_count": 10,
     "metadata": {},
     "output_type": "execute_result"
    }
   ],
   "source": [
    "ranked_taxa['superkingdom'] = ranked_taxa['superkingdom'].str.rstrip('\\t|')\n",
    "ranked_taxa.head()"
   ]
  },
  {
   "cell_type": "markdown",
   "metadata": {},
   "source": [
    "## Combining GenBank with Taxonomy and exporting report"
   ]
  },
  {
   "cell_type": "code",
   "execution_count": 7,
   "metadata": {},
   "outputs": [
    {
     "name": "stdout",
     "output_type": "stream",
     "text": [
      "14278\n"
     ]
    }
   ],
   "source": [
    "unique_taxids = gb_df['taxid'].unique()\n",
    "print(len(unique_taxids))"
   ]
  },
  {
   "cell_type": "code",
   "execution_count": 11,
   "metadata": {},
   "outputs": [
    {
     "name": "stdout",
     "output_type": "stream",
     "text": [
      "<class 'pandas.core.frame.DataFrame'>\n",
      "Int64Index: 14277 entries, 88303 to 2050047\n",
      "Data columns (total 10 columns):\n",
      " #   Column        Non-Null Count  Dtype \n",
      "---  ------        --------------  ----- \n",
      " 0   taxid         14277 non-null  int64 \n",
      " 1   tax_name      14277 non-null  object\n",
      " 2   species       242 non-null    object\n",
      " 3   genus         12203 non-null  object\n",
      " 4   family        13875 non-null  object\n",
      " 5   order         14033 non-null  object\n",
      " 6   class         14041 non-null  object\n",
      " 7   phylum        14277 non-null  object\n",
      " 8   kingdom       14227 non-null  object\n",
      " 9   superkingdom  14277 non-null  object\n",
      "dtypes: int64(1), object(9)\n",
      "memory usage: 1.2+ MB\n"
     ]
    }
   ],
   "source": [
    "taxa_subset = ranked_taxa[ranked_taxa['taxid'].isin(unique_taxids)]\n",
    "taxa_subset.info()"
   ]
  },
  {
   "cell_type": "code",
   "execution_count": 14,
   "metadata": {},
   "outputs": [],
   "source": [
    "gb_df['taxid'] = gb_df['taxid'].astype('int')"
   ]
  },
  {
   "cell_type": "code",
   "execution_count": 15,
   "metadata": {},
   "outputs": [
    {
     "name": "stdout",
     "output_type": "stream",
     "text": [
      "  initiative   bioproject accession  specimen_voucher publish_date  quarter  \\\n",
      "0        GGI  PRJNA552856  MN135406  USNM:Herp:575039  17-JUL-2019  2019-Q3   \n",
      "1        GGI  PRJNA552856  MN135405  USNM:Herp:575038  17-JUL-2019  2019-Q3   \n",
      "2        GGI  PRJNA552856  MN135619  USNM:Herp:575039  15-JUL-2019  2019-Q3   \n",
      "3        GGI  PRJNA552856  MN135618  USNM:Herp:575038  15-JUL-2019  2019-Q3   \n",
      "4        GGI  PRJNA552856  MN135404  USNM:Herp:575037  17-JUL-2019  2019-Q3   \n",
      "\n",
      "    taxid   family       genus  \n",
      "0   45438  Ranidae  Lithobates  \n",
      "1   45438  Ranidae  Lithobates  \n",
      "2   45438  Ranidae  Lithobates  \n",
      "3   45438  Ranidae  Lithobates  \n",
      "4  298395  Ranidae  Lithobates  \n"
     ]
    }
   ],
   "source": [
    "merged_df = gb_df.merge(taxa_subset[['taxid','family','genus']], on='taxid')\n",
    "print(merged_df.head())"
   ]
  },
  {
   "cell_type": "code",
   "execution_count": 17,
   "metadata": {},
   "outputs": [],
   "source": [
    "merged_outfile = f'GB_Taxonomy_Results_{YEAR}_Q{Q}.tsv'\n",
    "merged_df.to_csv(merged_outfile, sep='\\t', index=False)"
   ]
  },
  {
   "cell_type": "markdown",
   "metadata": {},
   "source": [
    "## Calculating Quarterly Totals"
   ]
  },
  {
   "cell_type": "code",
   "execution_count": 22,
   "metadata": {},
   "outputs": [
    {
     "data": {
      "text/plain": [
       "initiative  quarter\n",
       "GGI         2016-Q1     145\n",
       "            2017-Q1       8\n",
       "            2017-Q2     107\n",
       "            2017-Q3    2034\n",
       "            2017-Q4    3040\n",
       "            2018-Q1     372\n",
       "            2018-Q2    1856\n",
       "            2018-Q3     165\n",
       "            2018-Q4    1314\n",
       "            2019-Q1       2\n",
       "            2019-Q2      28\n",
       "            2019-Q3     400\n",
       "            2019-Q4      86\n",
       "            2020-Q2      61\n",
       "SIBN        2011-Q4    2778\n",
       "            2014-Q2      12\n",
       "            2015-Q1     805\n",
       "            2015-Q3     966\n",
       "            2015-Q4    1836\n",
       "            2016-Q1     534\n",
       "            2016-Q2     498\n",
       "            2016-Q4     256\n",
       "            2017-Q2      27\n",
       "            2017-Q4    1947\n",
       "            2018-Q1     920\n",
       "            2018-Q2     905\n",
       "            2018-Q3    2266\n",
       "            2018-Q4    1676\n",
       "            2019-Q1     380\n",
       "            2019-Q2     100\n",
       "            2019-Q3    4726\n",
       "            2019-Q4    2773\n",
       "            2020-Q2    2253\n",
       "dtype: int64"
      ]
     },
     "execution_count": 22,
     "metadata": {},
     "output_type": "execute_result"
    }
   ],
   "source": [
    "merged_df.groupby(['initiative','quarter']).size()"
   ]
  },
  {
   "cell_type": "code",
   "execution_count": 18,
   "metadata": {},
   "outputs": [],
   "source": [
    "quarter_target = f'{YEAR}-Q{Q}'\n",
    "\n",
    "sibn_q = merged_df[(merged_df['initiative'] == 'SIBN') & (merged_df['quarter'] == quarter_target)]\n",
    "sibn_total = merged_df[merged_df['initiative'] == 'SIBN']\n",
    "ggi_q = merged_df[(merged_df['initiative'] == 'GGI') & (merged_df['quarter'] == quarter_target)]\n",
    "ggi_total = merged_df[merged_df['initiative'] == 'GGI']\n",
    "both_q = merged_df[merged_df['quarter'] == quarter_target]"
   ]
  },
  {
   "cell_type": "code",
   "execution_count": 19,
   "metadata": {},
   "outputs": [],
   "source": [
    "from collections import OrderedDict"
   ]
  },
  {
   "cell_type": "code",
   "execution_count": 20,
   "metadata": {},
   "outputs": [],
   "source": [
    "df_labels = OrderedDict([(f'SIBN Q{Q}', sibn_q),\n",
    "                         ('SIBN Total', sibn_total),\n",
    "                         (f'GGI Q{Q}', ggi_q),\n",
    "                         ('GGI Total', ggi_total),\n",
    "                         (f'Both Initiatives Q{Q}', both_q),\n",
    "                         ('Both Initiatives Total', merged_df)])"
   ]
  },
  {
   "cell_type": "code",
   "execution_count": 21,
   "metadata": {},
   "outputs": [
    {
     "data": {
      "text/html": [
       "<style  type=\"text/css\" >\n",
       "</style><table id=\"T_9b1f8830_0a4f_11eb_8bb2_acde48001122\" ><thead>    <tr>        <th class=\"blank level0\" ></th>        <th class=\"col_heading level0 col0\" >SIBN Q3</th>        <th class=\"col_heading level0 col1\" >SIBN Total</th>        <th class=\"col_heading level0 col2\" >GGI Q3</th>        <th class=\"col_heading level0 col3\" >GGI Total</th>        <th class=\"col_heading level0 col4\" >Both Initiatives Q3</th>        <th class=\"col_heading level0 col5\" >Both Initiatives Total</th>    </tr></thead><tbody>\n",
       "                <tr>\n",
       "                        <th id=\"T_9b1f8830_0a4f_11eb_8bb2_acde48001122level0_row0\" class=\"row_heading level0 row0\" >Sequence Records</th>\n",
       "                        <td id=\"T_9b1f8830_0a4f_11eb_8bb2_acde48001122row0_col0\" class=\"data row0 col0\" >0</td>\n",
       "                        <td id=\"T_9b1f8830_0a4f_11eb_8bb2_acde48001122row0_col1\" class=\"data row0 col1\" >25658</td>\n",
       "                        <td id=\"T_9b1f8830_0a4f_11eb_8bb2_acde48001122row0_col2\" class=\"data row0 col2\" >0</td>\n",
       "                        <td id=\"T_9b1f8830_0a4f_11eb_8bb2_acde48001122row0_col3\" class=\"data row0 col3\" >9618</td>\n",
       "                        <td id=\"T_9b1f8830_0a4f_11eb_8bb2_acde48001122row0_col4\" class=\"data row0 col4\" >0</td>\n",
       "                        <td id=\"T_9b1f8830_0a4f_11eb_8bb2_acde48001122row0_col5\" class=\"data row0 col5\" >35276</td>\n",
       "            </tr>\n",
       "            <tr>\n",
       "                        <th id=\"T_9b1f8830_0a4f_11eb_8bb2_acde48001122level0_row1\" class=\"row_heading level0 row1\" >Specimens</th>\n",
       "                        <td id=\"T_9b1f8830_0a4f_11eb_8bb2_acde48001122row1_col0\" class=\"data row1 col0\" >0</td>\n",
       "                        <td id=\"T_9b1f8830_0a4f_11eb_8bb2_acde48001122row1_col1\" class=\"data row1 col1\" >23843</td>\n",
       "                        <td id=\"T_9b1f8830_0a4f_11eb_8bb2_acde48001122row1_col2\" class=\"data row1 col2\" >0</td>\n",
       "                        <td id=\"T_9b1f8830_0a4f_11eb_8bb2_acde48001122row1_col3\" class=\"data row1 col3\" >5236</td>\n",
       "                        <td id=\"T_9b1f8830_0a4f_11eb_8bb2_acde48001122row1_col4\" class=\"data row1 col4\" >0</td>\n",
       "                        <td id=\"T_9b1f8830_0a4f_11eb_8bb2_acde48001122row1_col5\" class=\"data row1 col5\" >29079</td>\n",
       "            </tr>\n",
       "            <tr>\n",
       "                        <th id=\"T_9b1f8830_0a4f_11eb_8bb2_acde48001122level0_row2\" class=\"row_heading level0 row2\" >Families</th>\n",
       "                        <td id=\"T_9b1f8830_0a4f_11eb_8bb2_acde48001122row2_col0\" class=\"data row2 col0\" >0</td>\n",
       "                        <td id=\"T_9b1f8830_0a4f_11eb_8bb2_acde48001122row2_col1\" class=\"data row2 col1\" >926</td>\n",
       "                        <td id=\"T_9b1f8830_0a4f_11eb_8bb2_acde48001122row2_col2\" class=\"data row2 col2\" >0</td>\n",
       "                        <td id=\"T_9b1f8830_0a4f_11eb_8bb2_acde48001122row2_col3\" class=\"data row2 col3\" >763</td>\n",
       "                        <td id=\"T_9b1f8830_0a4f_11eb_8bb2_acde48001122row2_col4\" class=\"data row2 col4\" >0</td>\n",
       "                        <td id=\"T_9b1f8830_0a4f_11eb_8bb2_acde48001122row2_col5\" class=\"data row2 col5\" >1373</td>\n",
       "            </tr>\n",
       "            <tr>\n",
       "                        <th id=\"T_9b1f8830_0a4f_11eb_8bb2_acde48001122level0_row3\" class=\"row_heading level0 row3\" >Genera</th>\n",
       "                        <td id=\"T_9b1f8830_0a4f_11eb_8bb2_acde48001122row3_col0\" class=\"data row3 col0\" >0</td>\n",
       "                        <td id=\"T_9b1f8830_0a4f_11eb_8bb2_acde48001122row3_col1\" class=\"data row3 col1\" >5328</td>\n",
       "                        <td id=\"T_9b1f8830_0a4f_11eb_8bb2_acde48001122row3_col2\" class=\"data row3 col2\" >0</td>\n",
       "                        <td id=\"T_9b1f8830_0a4f_11eb_8bb2_acde48001122row3_col3\" class=\"data row3 col3\" >2154</td>\n",
       "                        <td id=\"T_9b1f8830_0a4f_11eb_8bb2_acde48001122row3_col4\" class=\"data row3 col4\" >0</td>\n",
       "                        <td id=\"T_9b1f8830_0a4f_11eb_8bb2_acde48001122row3_col5\" class=\"data row3 col5\" >7181</td>\n",
       "            </tr>\n",
       "    </tbody></table>"
      ],
      "text/plain": [
       "<pandas.io.formats.style.Styler at 0x151f2a210>"
      ]
     },
     "execution_count": 21,
     "metadata": {},
     "output_type": "execute_result"
    }
   ],
   "source": [
    "counts_dict = OrderedDict()\n",
    "for title, df in df_labels.items():\n",
    "    counts_dict[title] = OrderedDict([\n",
    "                            ('Sequence Records', len(df)),\n",
    "                            ('Specimens', df['specimen_voucher'].nunique()),\n",
    "                            ('Families', df['family'].nunique()),\n",
    "                            ('Genera', df['genus'].nunique())])\n",
    "count_df = pd.DataFrame(counts_dict)\n",
    "count_df.style"
   ]
  },
  {
   "cell_type": "code",
   "execution_count": 24,
   "metadata": {},
   "outputs": [],
   "source": [
    "summary_file = f'GenBank_Counts_{YEAR}_Q{Q}.xlsx'\n",
    "count_df.to_excel(summary_file)"
   ]
  },
  {
   "cell_type": "code",
   "execution_count": null,
   "metadata": {},
   "outputs": [],
   "source": []
  }
 ],
 "metadata": {
  "kernelspec": {
   "display_name": "Python 3",
   "language": "python",
   "name": "python3"
  },
  "language_info": {
   "codemirror_mode": {
    "name": "ipython",
    "version": 3
   },
   "file_extension": ".py",
   "mimetype": "text/x-python",
   "name": "python",
   "nbconvert_exporter": "python",
   "pygments_lexer": "ipython3",
   "version": "3.8.4"
  }
 },
 "nbformat": 4,
 "nbformat_minor": 4
}
